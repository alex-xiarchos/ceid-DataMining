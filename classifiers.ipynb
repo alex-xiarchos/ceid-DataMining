{
 "cells": [
  {
   "cell_type": "code",
   "execution_count": null,
   "id": "23f3fcf4fde9a922",
   "metadata": {
    "collapsed": false
   },
   "outputs": [],
   "source": [
    "from sklearn.model_selection import train_test_split\n",
    "from sklearn.ensemble import RandomForestClassifier\n",
    "from sklearn.neural_network import MLPClassifier\n",
    "from sklearn.metrics import accuracy_score, precision_score, recall_score, f1_score\n",
    "from sklearn.naive_bayes import GaussianNB\n",
    "import matplotlib.pyplot as plt\n",
    "import seaborn as sns\n",
    "import numpy as np\n",
    "import pandas as pd\n",
    "import os\n",
    "import pickle"
   ]
  },
  {
   "cell_type": "code",
   "outputs": [],
   "source": [
    "file_list = ['S006.csv', 'S008.csv', 'S009.csv', 'S010.csv', 'S012.csv', 'S013.csv', 'S014.csv', 'S015_fix.csv',\n",
    "             'S016.csv',\n",
    "             'S017.csv', 'S018.csv', 'S019.csv', 'S020.csv', 'S021_fix.csv', 'S022.csv', 'S023_fix.csv', 'S024.csv',\n",
    "             'S025.csv',\n",
    "             'S026.csv', 'S027.csv', 'S028.csv', 'S029.csv', ]"
   ],
   "metadata": {
    "collapsed": false
   },
   "id": "6469dc7c452e5ff",
   "execution_count": null
  },
  {
   "cell_type": "code",
   "outputs": [],
   "source": [
    "# S006.csv        [00]\n",
    "# S008.csv        [01]\n",
    "# S009.csv        [02]\n",
    "# S010.csv        [03]\n",
    "# S012.csv        [04]\n",
    "# S013.csv        [05]\n",
    "# S014.csv        [06]\n",
    "# S015_fix.csv    [07]\n",
    "# S016.csv        [08]\n",
    "# S017.csv        [09]\n",
    "# S018.csv        [10]\n",
    "# S019.csv        [11]\n",
    "# S020.csv        [12]\n",
    "# S021_fix.csv    [13]\n",
    "# S022.csv        [14]\n",
    "# S023_fix.csv    [15]\n",
    "# S024.csv        [16]\n",
    "# S025.csv        [17]\n",
    "# S026.csv        [18]\n",
    "# S027.csv        [19]\n",
    "# S028.csv        [20]\n",
    "# S029.csv        [21]"
   ],
   "metadata": {
    "collapsed": true
   },
   "id": "initial_id",
   "execution_count": null
  },
  {
   "cell_type": "code",
   "outputs": [],
   "source": [
    "def get_classifier(option):\n",
    "    if option == 1:\n",
    "        classifier = MLPClassifier(max_iter=500)\n",
    "    elif option == 2:\n",
    "        classifier = RandomForestClassifier(n_estimators=100, criterion='entropy', random_state=42)\n",
    "    elif option == 3:\n",
    "        classifier = GaussianNB()\n",
    "    else:\n",
    "        raise ValueError('Invalid option')\n",
    "\n",
    "    return classifier"
   ],
   "metadata": {
    "collapsed": false
   },
   "id": "b543ea66659a22be",
   "execution_count": null
  },
  {
   "cell_type": "code",
   "outputs": [],
   "source": [
    "# 1: Neural Network\n",
    "# 2: Random Forest  \n",
    "# 3: Bayesian Network"
   ],
   "metadata": {
    "collapsed": false
   },
   "id": "bf72ed5e2c3a5365",
   "execution_count": null
  },
  {
   "cell_type": "code",
   "outputs": [],
   "source": [
    "models_train_acc = []\n",
    "models_test_acc = []\n",
    "models_precisions = []\n",
    "models_recalls = []\n",
    "models_f1s = []\n",
    "\n",
    "for number in range(1, 4):\n",
    "    option = number\n",
    "    train_acc = []\n",
    "    test_acc = []\n",
    "    precisions = []\n",
    "    recalls = []\n",
    "    f1s = []\n",
    "    for i, file in enumerate(file_list):\n",
    "        df = pd.read_csv(os.path.join('harth/', file))\n",
    "        df = df.drop('timestamp', axis = 1)\n",
    "        \n",
    "        X = df.drop(['label'], axis = 1)\n",
    "        Y = df['label']\n",
    "        \n",
    "        X_train, X_test, Y_train, Y_test = train_test_split(X, Y, test_size=0.3)\n",
    "        \n",
    "        clf = get_classifier(option)\n",
    "        clf = clf.fit(X_train, Y_train)\n",
    "        predictions = clf.predict(X_test)\n",
    "        \n",
    "        print(f\"Classifier {option} yields training accuracy for file {file} of {clf.score(X_train,Y_train)} with a testing accuracy of {accuracy_score(Y_test, predictions)}\")\n",
    "        \n",
    "        train_acc.append(clf.score(X_train,Y_train))\n",
    "        test_acc.append(accuracy_score(Y_test, predictions))\n",
    "        precisions.append(precision_score(Y_test, predictions, average='macro'))\n",
    "        recalls.append(recall_score(Y_test, predictions, average='macro'))\n",
    "        f1s.append(f1_score(Y_test, predictions, average='macro'))\n",
    "        \n",
    "    models_train_acc.append(np.mean(train_acc))\n",
    "    models_test_acc.append(np.mean(test_acc))\n",
    "    models_precisions.append(np.mean(precisions))\n",
    "    models_recalls.append(np.mean(recalls))\n",
    "    models_f1s.append(np.mean(f1s))"
   ],
   "metadata": {
    "collapsed": false
   },
   "id": "cd0262a4c62b0bd9",
   "execution_count": null
  },
  {
   "cell_type": "code",
   "outputs": [],
   "source": [
    "with open('metrics.pickle', 'wb') as file:\n",
    "    pickle.dump([models_train_acc, models_test_acc, models_precisions, models_recalls, models_f1s], file)\n",
    "    \n",
    "# with open('metrics.pickle', 'rb') as file:\n",
    "#     models_train_acc, models_test_acc, models_precisions, models_recalls, models_f1s = pickle.load(file)"
   ],
   "metadata": {
    "collapsed": false
   },
   "id": "31ab90f9194cfd9e",
   "execution_count": null
  },
  {
   "cell_type": "code",
   "outputs": [],
   "source": [
    "fig = plt.figure(\"Classification Results\")\n",
    "x_axis = np.arange(len(models_train_acc))\n",
    "plt.bar(x_axis-0.2, models_train_acc, 0.4, label = \"Train set\")\n",
    "plt.bar(x_axis+0.2, models_test_acc, 0.4, label = 'Test Set')\n",
    "plt.xticks(x_axis)\n",
    "plt.xlabel(\"Models\")\n",
    "plt.ylabel(\"Accuracy\")\n",
    "plt.legend()\n",
    "plt.show()"
   ],
   "metadata": {
    "collapsed": false
   },
   "id": "f23b00f51ba67be7",
   "execution_count": null
  },
  {
   "cell_type": "code",
   "outputs": [],
   "source": [
    "fig = plt.figure(\"Classification Results\")\n",
    "x_axis = np.arange(len(models_train_acc))\n",
    "plt.bar(x_axis-0.4, models_test_acc, 0.2, label = \"Accuracy\")\n",
    "plt.bar(x_axis-0.2, models_precisions, 0.2, label = 'Precision')\n",
    "plt.bar(x_axis, models_recalls, 0.2, label = 'Recall')\n",
    "plt.bar(x_axis+0.2, models_f1s, 0.2, label = 'F1')\n",
    "plt.xticks(x_axis)\n",
    "plt.xlabel(\"Models\")\n",
    "plt.ylabel(\"Accuracy\")\n",
    "plt.legend()\n",
    "plt.show()"
   ],
   "metadata": {
    "collapsed": false
   },
   "id": "4392e367041fa30",
   "execution_count": null
  }
 ],
 "metadata": {
  "kernelspec": {
   "display_name": "Python 3",
   "language": "python",
   "name": "python3"
  },
  "language_info": {
   "codemirror_mode": {
    "name": "ipython",
    "version": 2
   },
   "file_extension": ".py",
   "mimetype": "text/x-python",
   "name": "python",
   "nbconvert_exporter": "python",
   "pygments_lexer": "ipython2",
   "version": "2.7.6"
  }
 },
 "nbformat": 4,
 "nbformat_minor": 5
}
