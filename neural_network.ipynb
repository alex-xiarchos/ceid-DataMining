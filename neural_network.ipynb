{
 "cells": [
  {
   "cell_type": "code",
   "execution_count": 1,
   "id": "23f3fcf4fde9a922",
   "metadata": {
    "collapsed": false,
    "ExecuteTime": {
     "end_time": "2024-05-21T14:16:25.551920800Z",
     "start_time": "2024-05-21T14:16:25.377209900Z"
    }
   },
   "outputs": [],
   "source": [
    "from sklearn.model_selection import train_test_split\n",
    "from sklearn.ensemble import RandomForestClassifier\n",
    "from sklearn.neural_network import MLPClassifier\n",
    "from sklearn.metrics import accuracy_score\n",
    "from sklearn.naive_bayes import GaussianNB\n",
    "import seaborn as sns\n",
    "import pandas as pd\n",
    "import os\n",
    "import matplotlib.pyplot as plt"
   ]
  },
  {
   "cell_type": "code",
   "outputs": [],
   "source": [
    "file_list = ['S006.csv', 'S008.csv', 'S009.csv', 'S010.csv', 'S012.csv', 'S013.csv', 'S014.csv', 'S015_fix.csv',\n",
    "             'S016.csv',\n",
    "             'S017.csv', 'S018.csv', 'S019.csv', 'S020.csv', 'S021_fix.csv', 'S022.csv', 'S023_fix.csv', 'S024.csv',\n",
    "             'S025.csv',\n",
    "             'S026.csv', 'S027.csv', 'S028.csv', 'S029.csv', ]"
   ],
   "metadata": {
    "collapsed": false,
    "ExecuteTime": {
     "end_time": "2024-05-21T14:16:25.553977900Z",
     "start_time": "2024-05-21T14:16:25.553475300Z"
    }
   },
   "id": "6469dc7c452e5ff",
   "execution_count": 2
  },
  {
   "cell_type": "code",
   "outputs": [],
   "source": [
    "# S006.csv        [00]\n",
    "# S008.csv        [01]\n",
    "# S009.csv        [02]\n",
    "# S010.csv        [03]\n",
    "# S012.csv        [04]\n",
    "# S013.csv        [05]\n",
    "# S014.csv        [06]\n",
    "# S015_fix.csv    [07]\n",
    "# S016.csv        [08]\n",
    "# S017.csv        [09]\n",
    "# S018.csv        [10]\n",
    "# S019.csv        [11]\n",
    "# S020.csv        [12]\n",
    "# S021_fix.csv    [13]\n",
    "# S022.csv        [14]\n",
    "# S023_fix.csv    [15]\n",
    "# S024.csv        [16]\n",
    "# S025.csv        [17]\n",
    "# S026.csv        [18]\n",
    "# S027.csv        [19]\n",
    "# S028.csv        [20]\n",
    "# S029.csv        [21]"
   ],
   "metadata": {
    "collapsed": true,
    "ExecuteTime": {
     "end_time": "2024-05-21T14:16:25.565777200Z",
     "start_time": "2024-05-21T14:16:25.554981800Z"
    }
   },
   "id": "initial_id",
   "execution_count": 3
  },
  {
   "cell_type": "code",
   "outputs": [],
   "source": [
    "def get_classifier(option):\n",
    "    if option == 1:\n",
    "        classifier = MLPClassifier(max_iter=500)\n",
    "    elif option == 2:\n",
    "        classifier = RandomForestClassifier(n_estimators=100, criterion='entropy', random_state=42)\n",
    "    elif option == 3:\n",
    "        classifier = GaussianNB()\n",
    "    else:\n",
    "        raise ValueError('Invalid option')\n",
    "\n",
    "    return classifier"
   ],
   "metadata": {
    "collapsed": false,
    "ExecuteTime": {
     "end_time": "2024-05-21T14:16:25.576868900Z",
     "start_time": "2024-05-21T14:16:25.566776700Z"
    }
   },
   "id": "b543ea66659a22be",
   "execution_count": 4
  },
  {
   "cell_type": "code",
   "outputs": [],
   "source": [
    "# 1: Neural Network\n",
    "# 2: Random Forest  \n",
    "# 3: Bayesian Network"
   ],
   "metadata": {
    "collapsed": false,
    "ExecuteTime": {
     "end_time": "2024-05-21T14:16:25.594527Z",
     "start_time": "2024-05-21T14:16:25.576868900Z"
    }
   },
   "id": "bf72ed5e2c3a5365",
   "execution_count": 5
  },
  {
   "cell_type": "code",
   "outputs": [
    {
     "name": "stdout",
     "output_type": "stream",
     "text": [
      "Classifier 1 yeilds training accuracy for file S006.csv of 0.9141337173536156\n",
      " with a testing accuracy of 0.9122442155399509\n",
      "Classifier 1 yeilds training accuracy for file S008.csv of 0.9329507794280103\n",
      " with a testing accuracy of 0.9315337677112421\n",
      "Classifier 1 yeilds training accuracy for file S009.csv of 0.8956013466020495\n",
      " with a testing accuracy of 0.891627104013811\n"
     ]
    }
   ],
   "source": [
    "# Random Forest\n",
    "option = 1\n",
    "for file in file_list:\n",
    "    df = pd.read_csv(os.path.join('harth/', file))\n",
    "    df = df.drop('timestamp', axis = 1)\n",
    "    \n",
    "    X = df.drop(['label'], axis = 1)\n",
    "    Y = df['label']\n",
    "    \n",
    "    X_train, X_test, Y_train, Y_test = train_test_split(X, Y, test_size=0.3)\n",
    "    \n",
    "    clf = get_classifier(option)\n",
    "    clf = clf.fit(X_train, Y_train)\n",
    "    predictions = clf.predict(X_test)\n",
    "    \n",
    "    print(f\"Classifier {option} yeilds training accuracy for file {file} of {clf.score(X_train,Y_train)} with a testing accuracy of {accuracy_score(Y_test, predictions)}\")"
   ],
   "metadata": {
    "collapsed": false,
    "is_executing": true,
    "ExecuteTime": {
     "start_time": "2024-05-21T14:16:25.588467700Z"
    }
   },
   "id": "f23b00f51ba67be7",
   "execution_count": null
  }
 ],
 "metadata": {
  "kernelspec": {
   "display_name": "Python 3",
   "language": "python",
   "name": "python3"
  },
  "language_info": {
   "codemirror_mode": {
    "name": "ipython",
    "version": 2
   },
   "file_extension": ".py",
   "mimetype": "text/x-python",
   "name": "python",
   "nbconvert_exporter": "python",
   "pygments_lexer": "ipython2",
   "version": "2.7.6"
  }
 },
 "nbformat": 4,
 "nbformat_minor": 5
}
