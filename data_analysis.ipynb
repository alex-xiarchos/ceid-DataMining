{
 "cells": [
  {
   "cell_type": "code",
   "execution_count": 5,
   "id": "c7f868307e48cfc3",
   "metadata": {
    "collapsed": false,
    "ExecuteTime": {
     "end_time": "2024-05-09T14:33:24.721827Z",
     "start_time": "2024-05-09T14:33:24.717808Z"
    }
   },
   "outputs": [],
   "source": [
    "from icecream import ic\n",
    "import csv\n",
    "import pandas as pd\n",
    "import os\n",
    "import matplotlib.pyplot as ptl"
   ]
  },
  {
   "cell_type": "code",
   "outputs": [],
   "source": [
    "file_list = ['S006.csv','S008.csv','S009.csv','S010.csv','S012.csv','S013.csv','S014.csv','S015.csv','S016.csv',\n",
    "             'S017.csv','S018.csv','S019.csv','S020.csv','S021.csv','S022.csv','S023.csv','S024.csv','S025.csv',\n",
    "             'S026.csv','S027.csv','S028.csv','S029.csv',]\n",
    "\n",
    "file_path = os.path.join('harth/', file_list[0])"
   ],
   "metadata": {
    "collapsed": false,
    "ExecuteTime": {
     "end_time": "2024-05-09T14:33:25.508042400Z",
     "start_time": "2024-05-09T14:33:25.503532800Z"
    }
   },
   "id": "10b160bd569a9bf4",
   "execution_count": 6
  },
  {
   "cell_type": "code",
   "outputs": [
    {
     "name": "stdout",
     "output_type": "stream",
     "text": [
      "<class 'pandas.core.frame.DataFrame'>\n",
      "RangeIndex: 408709 entries, 0 to 408708\n",
      "Data columns (total 8 columns):\n",
      " #   Column     Non-Null Count   Dtype  \n",
      "---  ------     --------------   -----  \n",
      " 0   timestamp  408709 non-null  object \n",
      " 1   back_x     408709 non-null  float64\n",
      " 2   back_y     408709 non-null  float64\n",
      " 3   back_z     408709 non-null  float64\n",
      " 4   thigh_x    408709 non-null  float64\n",
      " 5   thigh_y    408709 non-null  float64\n",
      " 6   thigh_z    408709 non-null  float64\n",
      " 7   label      408709 non-null  int64  \n",
      "dtypes: float64(6), int64(1), object(1)\n",
      "memory usage: 24.9+ MB\n"
     ]
    }
   ],
   "source": [
    "df = pd.read_csv(os.path.join('harth/', file_list[0]))\n",
    "df.info()"
   ],
   "metadata": {
    "collapsed": false,
    "ExecuteTime": {
     "end_time": "2024-05-09T15:29:06.245770800Z",
     "start_time": "2024-05-09T15:29:05.965732800Z"
    }
   },
   "id": "initial_id",
   "execution_count": 14
  },
  {
   "cell_type": "code",
   "outputs": [
    {
     "data": {
      "text/plain": "                 timestamp    back_x    back_y    back_z   thigh_x   thigh_y  \\\n0  2019-01-12 00:00:00.000 -0.760242  0.299570  0.468570 -5.092732 -0.298644   \n1  2019-01-12 00:00:00.010 -0.530138  0.281880  0.319987  0.900547  0.286944   \n2  2019-01-12 00:00:00.020 -1.170922  0.186353 -0.167010 -0.035442 -0.078423   \n3  2019-01-12 00:00:00.030 -0.648772  0.016579 -0.054284 -1.554248 -0.950978   \n4  2019-01-12 00:00:00.040 -0.355071 -0.051831 -0.113419 -0.547471  0.140903   \n\n    thigh_z  label  \n0  0.709439      6  \n1  0.340309      6  \n2 -0.515212      6  \n3 -0.221140      6  \n4 -0.653782      6  ",
      "text/html": "<div>\n<style scoped>\n    .dataframe tbody tr th:only-of-type {\n        vertical-align: middle;\n    }\n\n    .dataframe tbody tr th {\n        vertical-align: top;\n    }\n\n    .dataframe thead th {\n        text-align: right;\n    }\n</style>\n<table border=\"1\" class=\"dataframe\">\n  <thead>\n    <tr style=\"text-align: right;\">\n      <th></th>\n      <th>timestamp</th>\n      <th>back_x</th>\n      <th>back_y</th>\n      <th>back_z</th>\n      <th>thigh_x</th>\n      <th>thigh_y</th>\n      <th>thigh_z</th>\n      <th>label</th>\n    </tr>\n  </thead>\n  <tbody>\n    <tr>\n      <th>0</th>\n      <td>2019-01-12 00:00:00.000</td>\n      <td>-0.760242</td>\n      <td>0.299570</td>\n      <td>0.468570</td>\n      <td>-5.092732</td>\n      <td>-0.298644</td>\n      <td>0.709439</td>\n      <td>6</td>\n    </tr>\n    <tr>\n      <th>1</th>\n      <td>2019-01-12 00:00:00.010</td>\n      <td>-0.530138</td>\n      <td>0.281880</td>\n      <td>0.319987</td>\n      <td>0.900547</td>\n      <td>0.286944</td>\n      <td>0.340309</td>\n      <td>6</td>\n    </tr>\n    <tr>\n      <th>2</th>\n      <td>2019-01-12 00:00:00.020</td>\n      <td>-1.170922</td>\n      <td>0.186353</td>\n      <td>-0.167010</td>\n      <td>-0.035442</td>\n      <td>-0.078423</td>\n      <td>-0.515212</td>\n      <td>6</td>\n    </tr>\n    <tr>\n      <th>3</th>\n      <td>2019-01-12 00:00:00.030</td>\n      <td>-0.648772</td>\n      <td>0.016579</td>\n      <td>-0.054284</td>\n      <td>-1.554248</td>\n      <td>-0.950978</td>\n      <td>-0.221140</td>\n      <td>6</td>\n    </tr>\n    <tr>\n      <th>4</th>\n      <td>2019-01-12 00:00:00.040</td>\n      <td>-0.355071</td>\n      <td>-0.051831</td>\n      <td>-0.113419</td>\n      <td>-0.547471</td>\n      <td>0.140903</td>\n      <td>-0.653782</td>\n      <td>6</td>\n    </tr>\n  </tbody>\n</table>\n</div>"
     },
     "execution_count": 11,
     "metadata": {},
     "output_type": "execute_result"
    }
   ],
   "source": [
    "df = pd.read_csv(os.path.join('harth/', file_list[0]))\n",
    "df.head()"
   ],
   "metadata": {
    "collapsed": false,
    "ExecuteTime": {
     "end_time": "2024-05-09T14:45:38.675127300Z",
     "start_time": "2024-05-09T14:45:38.401017600Z"
    }
   },
   "id": "9d26074dccb7bc7a",
   "execution_count": 11
  },
  {
   "cell_type": "code",
   "outputs": [],
   "source": [
    "df = pd.read_csv(os.path.join('harth/', file_list[0]))\n",
    "df.isna().sum()"
   ],
   "metadata": {
    "collapsed": false
   },
   "id": "70b86971354b7ee6",
   "execution_count": null
  },
  {
   "cell_type": "code",
   "outputs": [
    {
     "data": {
      "text/plain": "              back_x         back_y         back_z        thigh_x  \\\ncount  408709.000000  408709.000000  408709.000000  408709.000000   \nmean       -0.802201      -0.000687      -0.274718      -0.370317   \nstd         0.238347       0.189062       0.441805       0.506666   \nmin        -3.542889      -3.016498      -1.024363      -6.844045   \n25%        -0.983647       0.001063      -0.702338      -0.952840   \n50%        -0.937195       0.033240      -0.277446      -0.277711   \n75%        -0.654541       0.074822       0.064811       0.068999   \nmax         0.952109       2.569339       1.628023       3.898547   \n\n             thigh_y        thigh_z          label  \ncount  408709.000000  408709.000000  408709.000000  \nmean        0.143471       0.617527      10.190187  \nstd         0.213864       0.536430      20.328336  \nmin        -5.757406      -4.884791       1.000000  \n25%         0.022534       0.144114       6.000000  \n50%         0.086248       0.924066       7.000000  \n75%         0.246292       1.001372       7.000000  \nmax         4.602909       5.391660     130.000000  ",
      "text/html": "<div>\n<style scoped>\n    .dataframe tbody tr th:only-of-type {\n        vertical-align: middle;\n    }\n\n    .dataframe tbody tr th {\n        vertical-align: top;\n    }\n\n    .dataframe thead th {\n        text-align: right;\n    }\n</style>\n<table border=\"1\" class=\"dataframe\">\n  <thead>\n    <tr style=\"text-align: right;\">\n      <th></th>\n      <th>back_x</th>\n      <th>back_y</th>\n      <th>back_z</th>\n      <th>thigh_x</th>\n      <th>thigh_y</th>\n      <th>thigh_z</th>\n      <th>label</th>\n    </tr>\n  </thead>\n  <tbody>\n    <tr>\n      <th>count</th>\n      <td>408709.000000</td>\n      <td>408709.000000</td>\n      <td>408709.000000</td>\n      <td>408709.000000</td>\n      <td>408709.000000</td>\n      <td>408709.000000</td>\n      <td>408709.000000</td>\n    </tr>\n    <tr>\n      <th>mean</th>\n      <td>-0.802201</td>\n      <td>-0.000687</td>\n      <td>-0.274718</td>\n      <td>-0.370317</td>\n      <td>0.143471</td>\n      <td>0.617527</td>\n      <td>10.190187</td>\n    </tr>\n    <tr>\n      <th>std</th>\n      <td>0.238347</td>\n      <td>0.189062</td>\n      <td>0.441805</td>\n      <td>0.506666</td>\n      <td>0.213864</td>\n      <td>0.536430</td>\n      <td>20.328336</td>\n    </tr>\n    <tr>\n      <th>min</th>\n      <td>-3.542889</td>\n      <td>-3.016498</td>\n      <td>-1.024363</td>\n      <td>-6.844045</td>\n      <td>-5.757406</td>\n      <td>-4.884791</td>\n      <td>1.000000</td>\n    </tr>\n    <tr>\n      <th>25%</th>\n      <td>-0.983647</td>\n      <td>0.001063</td>\n      <td>-0.702338</td>\n      <td>-0.952840</td>\n      <td>0.022534</td>\n      <td>0.144114</td>\n      <td>6.000000</td>\n    </tr>\n    <tr>\n      <th>50%</th>\n      <td>-0.937195</td>\n      <td>0.033240</td>\n      <td>-0.277446</td>\n      <td>-0.277711</td>\n      <td>0.086248</td>\n      <td>0.924066</td>\n      <td>7.000000</td>\n    </tr>\n    <tr>\n      <th>75%</th>\n      <td>-0.654541</td>\n      <td>0.074822</td>\n      <td>0.064811</td>\n      <td>0.068999</td>\n      <td>0.246292</td>\n      <td>1.001372</td>\n      <td>7.000000</td>\n    </tr>\n    <tr>\n      <th>max</th>\n      <td>0.952109</td>\n      <td>2.569339</td>\n      <td>1.628023</td>\n      <td>3.898547</td>\n      <td>4.602909</td>\n      <td>5.391660</td>\n      <td>130.000000</td>\n    </tr>\n  </tbody>\n</table>\n</div>"
     },
     "execution_count": 13,
     "metadata": {},
     "output_type": "execute_result"
    }
   ],
   "source": [
    "df = pd.read_csv(os.path.join('harth/', file_list[0]))\n",
    "df.describe()"
   ],
   "metadata": {
    "collapsed": false,
    "ExecuteTime": {
     "end_time": "2024-05-09T15:28:03.403209400Z",
     "start_time": "2024-05-09T15:28:03.036937500Z"
    }
   },
   "id": "a8367255415fa3b6",
   "execution_count": 13
  },
  {
   "cell_type": "code",
   "outputs": [
    {
     "ename": "NameError",
     "evalue": "name 'pd' is not defined",
     "output_type": "error",
     "traceback": [
      "\u001B[1;31m---------------------------------------------------------------------------\u001B[0m",
      "\u001B[1;31mNameError\u001B[0m                                 Traceback (most recent call last)",
      "Cell \u001B[1;32mIn[1], line 1\u001B[0m\n\u001B[1;32m----> 1\u001B[0m df \u001B[38;5;241m=\u001B[39m \u001B[43mpd\u001B[49m\u001B[38;5;241m.\u001B[39mread_csv(os\u001B[38;5;241m.\u001B[39mpath\u001B[38;5;241m.\u001B[39mjoin(\u001B[38;5;124m'\u001B[39m\u001B[38;5;124mharth/\u001B[39m\u001B[38;5;124m'\u001B[39m, file_list[\u001B[38;5;241m4\u001B[39m]))\n\u001B[0;32m      2\u001B[0m df\u001B[38;5;241m.\u001B[39mboxplot()\n\u001B[0;32m      3\u001B[0m ptl\u001B[38;5;241m.\u001B[39mshow()\n",
      "\u001B[1;31mNameError\u001B[0m: name 'pd' is not defined"
     ]
    }
   ],
   "source": [
    "df = pd.read_csv(os.path.join('harth/', file_list[4]))\n",
    "df.boxplot()\n",
    "ptl.show()"
   ],
   "metadata": {
    "collapsed": false,
    "ExecuteTime": {
     "end_time": "2024-05-09T14:26:19.491126500Z",
     "start_time": "2024-05-09T14:26:19.377801500Z"
    }
   },
   "id": "9fba2d530a727941",
   "execution_count": 1
  },
  {
   "cell_type": "code",
   "outputs": [],
   "source": [
    "dd"
   ],
   "metadata": {
    "collapsed": false
   },
   "id": "46f0bf26dfd96472"
  }
 ],
 "metadata": {
  "kernelspec": {
   "display_name": "Python 3",
   "language": "python",
   "name": "python3"
  },
  "language_info": {
   "codemirror_mode": {
    "name": "ipython",
    "version": 2
   },
   "file_extension": ".py",
   "mimetype": "text/x-python",
   "name": "python",
   "nbconvert_exporter": "python",
   "pygments_lexer": "ipython2",
   "version": "2.7.6"
  }
 },
 "nbformat": 4,
 "nbformat_minor": 5
}
