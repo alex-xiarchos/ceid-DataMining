{
 "cells": [
  {
   "cell_type": "code",
   "execution_count": 18,
   "id": "c7f868307e48cfc3",
   "metadata": {
    "collapsed": false,
    "ExecuteTime": {
     "end_time": "2024-05-06T18:34:23.086074100Z",
     "start_time": "2024-05-06T18:34:23.083962300Z"
    }
   },
   "outputs": [],
   "source": [
    "from icecream import ic\n",
    "import csv\n",
    "import pandas as pd\n",
    "import os"
   ]
  },
  {
   "cell_type": "code",
   "outputs": [
    {
     "data": {
      "text/plain": "              back_x         back_y         back_z        thigh_x  \\\ncount  351649.000000  351649.000000  351649.000000  351649.000000   \nmean       -1.019898      -0.002224      -0.014543      -0.905389   \nstd         0.186093       0.089664       0.155128       0.409359   \nmin        -2.365137      -0.891766      -1.120693      -4.449651   \n25%        -1.049960      -0.054221      -0.085287      -1.035450   \n50%        -1.015238      -0.000030      -0.000642      -0.989746   \n75%        -0.974607       0.047685       0.071708      -0.843884   \nmax        -0.309204       0.994556       1.586732       1.372425   \n\n             thigh_y        thigh_z          label  \ncount  351649.000000  351649.000000  351649.000000  \nmean        0.017624       0.146144       3.333546  \nstd         0.262037       0.542611       2.523253  \nmin        -3.333658      -4.198951       1.000000  \n25%        -0.097479      -0.114183       1.000000  \n50%         0.020164       0.022649       1.000000  \n75%         0.115373       0.313726       6.000000  \nmax         2.662940       5.062087       7.000000  ",
      "text/html": "<div>\n<style scoped>\n    .dataframe tbody tr th:only-of-type {\n        vertical-align: middle;\n    }\n\n    .dataframe tbody tr th {\n        vertical-align: top;\n    }\n\n    .dataframe thead th {\n        text-align: right;\n    }\n</style>\n<table border=\"1\" class=\"dataframe\">\n  <thead>\n    <tr style=\"text-align: right;\">\n      <th></th>\n      <th>back_x</th>\n      <th>back_y</th>\n      <th>back_z</th>\n      <th>thigh_x</th>\n      <th>thigh_y</th>\n      <th>thigh_z</th>\n      <th>label</th>\n    </tr>\n  </thead>\n  <tbody>\n    <tr>\n      <th>count</th>\n      <td>351649.000000</td>\n      <td>351649.000000</td>\n      <td>351649.000000</td>\n      <td>351649.000000</td>\n      <td>351649.000000</td>\n      <td>351649.000000</td>\n      <td>351649.000000</td>\n    </tr>\n    <tr>\n      <th>mean</th>\n      <td>-1.019898</td>\n      <td>-0.002224</td>\n      <td>-0.014543</td>\n      <td>-0.905389</td>\n      <td>0.017624</td>\n      <td>0.146144</td>\n      <td>3.333546</td>\n    </tr>\n    <tr>\n      <th>std</th>\n      <td>0.186093</td>\n      <td>0.089664</td>\n      <td>0.155128</td>\n      <td>0.409359</td>\n      <td>0.262037</td>\n      <td>0.542611</td>\n      <td>2.523253</td>\n    </tr>\n    <tr>\n      <th>min</th>\n      <td>-2.365137</td>\n      <td>-0.891766</td>\n      <td>-1.120693</td>\n      <td>-4.449651</td>\n      <td>-3.333658</td>\n      <td>-4.198951</td>\n      <td>1.000000</td>\n    </tr>\n    <tr>\n      <th>25%</th>\n      <td>-1.049960</td>\n      <td>-0.054221</td>\n      <td>-0.085287</td>\n      <td>-1.035450</td>\n      <td>-0.097479</td>\n      <td>-0.114183</td>\n      <td>1.000000</td>\n    </tr>\n    <tr>\n      <th>50%</th>\n      <td>-1.015238</td>\n      <td>-0.000030</td>\n      <td>-0.000642</td>\n      <td>-0.989746</td>\n      <td>0.020164</td>\n      <td>0.022649</td>\n      <td>1.000000</td>\n    </tr>\n    <tr>\n      <th>75%</th>\n      <td>-0.974607</td>\n      <td>0.047685</td>\n      <td>0.071708</td>\n      <td>-0.843884</td>\n      <td>0.115373</td>\n      <td>0.313726</td>\n      <td>6.000000</td>\n    </tr>\n    <tr>\n      <th>max</th>\n      <td>-0.309204</td>\n      <td>0.994556</td>\n      <td>1.586732</td>\n      <td>1.372425</td>\n      <td>2.662940</td>\n      <td>5.062087</td>\n      <td>7.000000</td>\n    </tr>\n  </tbody>\n</table>\n</div>"
     },
     "execution_count": 31,
     "metadata": {},
     "output_type": "execute_result"
    }
   ],
   "source": [
    "file_list = ['S006.csv','S008.csv','S009.csv','S010.csv','S012.csv','S013.csv','S014.csv','S015.csv','S016.csv',\n",
    "             'S017.csv','S018.csv','S019.csv','S020.csv','S021.csv','S022.csv','S023.csv','S024.csv','S025.csv',\n",
    "             'S026.csv','S027.csv','S028.csv','S029.csv',]\n",
    "\n",
    "file_path = os.path.join('harth/', file_list[3])\n",
    "df = pd.read_csv(file_path)\n",
    "df.describe()"
   ],
   "metadata": {
    "collapsed": true,
    "ExecuteTime": {
     "end_time": "2024-05-06T18:36:51.519710500Z",
     "start_time": "2024-05-06T18:36:51.187759900Z"
    }
   },
   "id": "initial_id",
   "execution_count": 31
  },
  {
   "cell_type": "code",
   "outputs": [],
   "source": [],
   "metadata": {
    "collapsed": false
   },
   "id": "2c61a8941135bcb7"
  }
 ],
 "metadata": {
  "kernelspec": {
   "display_name": "Python 3",
   "language": "python",
   "name": "python3"
  },
  "language_info": {
   "codemirror_mode": {
    "name": "ipython",
    "version": 2
   },
   "file_extension": ".py",
   "mimetype": "text/x-python",
   "name": "python",
   "nbconvert_exporter": "python",
   "pygments_lexer": "ipython2",
   "version": "2.7.6"
  }
 },
 "nbformat": 4,
 "nbformat_minor": 5
}
