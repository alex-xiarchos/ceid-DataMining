{
 "cells": [
  {
   "cell_type": "code",
   "execution_count": 1,
   "id": "initial_id",
   "metadata": {
    "collapsed": true,
    "ExecuteTime": {
     "end_time": "2024-05-06T18:16:59.325506Z",
     "start_time": "2024-05-06T18:16:59.254524100Z"
    }
   },
   "outputs": [],
   "source": [
    "from icecream import ic\n",
    "import csv\n",
    "import os\n",
    "\n",
    "\n",
    "def load_data():\n",
    "    file_list = ['S006.csv','S008.csv','S009.csv','S010.csv','S012.csv','S013.csv','S014.csv','S015.csv','S016.csv',\n",
    "                 'S017.csv','S018.csv','S019.csv','S020.csv','S021.csv','S022.csv','S023.csv','S024.csv','S025.csv',\n",
    "                 'S026.csv','S027.csv','S028.csv','S029.csv',]\n",
    "\n",
    "    # for file_name in file_list:\n",
    "        # file_path = os.path.join('harth/', file_name)\n",
    "        # with open(file_path, 'r') as file:\n",
    "        #     reader = csv.DictReader(file)\n",
    "        #     data = [row for row in reader]\n",
    "        #     ic(data)"
   ]
  },
  {
   "cell_type": "code",
   "outputs": [],
   "source": [],
   "metadata": {
    "collapsed": false
   },
   "id": "c908808acbd42899"
  }
 ],
 "metadata": {
  "kernelspec": {
   "display_name": "Python 3",
   "language": "python",
   "name": "python3"
  },
  "language_info": {
   "codemirror_mode": {
    "name": "ipython",
    "version": 2
   },
   "file_extension": ".py",
   "mimetype": "text/x-python",
   "name": "python",
   "nbconvert_exporter": "python",
   "pygments_lexer": "ipython2",
   "version": "2.7.6"
  }
 },
 "nbformat": 4,
 "nbformat_minor": 5
}
