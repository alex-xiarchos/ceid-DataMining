{
 "cells": [
  {
   "cell_type": "code",
   "execution_count": 1,
   "id": "c7f868307e48cfc3",
   "metadata": {
    "collapsed": false,
    "ExecuteTime": {
     "end_time": "2024-05-20T20:50:05.478813800Z",
     "start_time": "2024-05-20T20:50:05.475792700Z"
    }
   },
   "outputs": [],
   "source": [
    "import seaborn as sns\n",
    "import pandas as pd\n",
    "import os\n",
    "import matplotlib.pyplot as plt"
   ]
  },
  {
   "cell_type": "code",
   "outputs": [],
   "source": [
    "file_list = ['S006.csv','S008.csv','S009.csv','S010.csv','S012.csv','S013.csv','S014.csv','S015_fix.csv','S016.csv',\n",
    "             'S017.csv','S018.csv','S019.csv','S020.csv','S021_fix.csv','S022.csv','S023_fix.csv','S024.csv','S025.csv',\n",
    "             'S026.csv','S027.csv','S028.csv','S029.csv',]"
   ],
   "metadata": {
    "collapsed": false,
    "ExecuteTime": {
     "end_time": "2024-05-20T20:50:05.489299700Z",
     "start_time": "2024-05-20T20:50:05.477809800Z"
    }
   },
   "id": "f218cc61d69c0f7d",
   "execution_count": 2
  },
  {
   "cell_type": "code",
   "outputs": [],
   "source": [
    "# S006.csv        [00]\n",
    "# S008.csv        [01]\n",
    "# S009.csv        [02]\n",
    "# S010.csv        [03]\n",
    "# S012.csv        [04]\n",
    "# S013.csv        [05]\n",
    "# S014.csv        [06]\n",
    "# S015_fix.csv    [07]\n",
    "# S016.csv        [08]\n",
    "# S017.csv        [09]\n",
    "# S018.csv        [10]\n",
    "# S019.csv        [11]\n",
    "# S020.csv        [12]\n",
    "# S021_fix.csv    [13]\n",
    "# S022.csv        [14]\n",
    "# S023_fix.csv    [15]\n",
    "# S024.csv        [16]\n",
    "# S025.csv        [17]\n",
    "# S026.csv        [18]\n",
    "# S027.csv        [19]\n",
    "# S028.csv        [20]\n",
    "# S029.csv        [21]"
   ],
   "metadata": {
    "collapsed": false,
    "ExecuteTime": {
     "end_time": "2024-05-20T20:50:05.512123800Z",
     "start_time": "2024-05-20T20:50:05.488248100Z"
    }
   },
   "id": "74cd719740786da3",
   "execution_count": 3
  },
  {
   "cell_type": "code",
   "outputs": [],
   "source": [
    "# Append all df's into a single combined dataframe\n",
    "df_combined = pd.DataFrame()\n",
    "\n",
    "for file in file_list:\n",
    "    df = pd.read_csv(os.path.join('harth/', file))\n",
    "    df_combined = pd.concat([df_combined, df])\n",
    "\n",
    "df_combined = df_combined.drop('label', axis=1)"
   ],
   "metadata": {
    "collapsed": false,
    "ExecuteTime": {
     "end_time": "2024-05-20T20:50:05.526187Z",
     "start_time": "2024-05-20T20:50:05.512626Z"
    }
   },
   "id": "d5af7f44143f9373",
   "execution_count": 4
  },
  {
   "cell_type": "code",
   "outputs": [],
   "source": [
    "# Αφαίρεση περιττών στηλών\n",
    "df = pd.read_csv(os.path.join('harth/', file_list[7]))\n",
    "df = df.drop('index', axis=1)\n",
    "df.to_csv('harth/S015_fix.csv', index=False)"
   ],
   "metadata": {
    "collapsed": false,
    "ExecuteTime": {
     "end_time": "2024-05-20T20:50:05.540047800Z",
     "start_time": "2024-05-20T20:50:05.527190Z"
    }
   },
   "id": "4baef374f30b38e4",
   "execution_count": 5
  },
  {
   "cell_type": "code",
   "outputs": [],
   "source": [
    "# Δημιουργία πινάκων\n",
    "df = pd.read_csv(os.path.join('harth/', file_list[0]))\n",
    "df.head()\n",
    "df.info()\n",
    "df_combined.describe()"
   ],
   "metadata": {
    "collapsed": false,
    "ExecuteTime": {
     "end_time": "2024-05-20T20:50:05.556554200Z",
     "start_time": "2024-05-20T20:50:05.539044600Z"
    }
   },
   "id": "initial_id",
   "execution_count": 6
  },
  {
   "cell_type": "code",
   "outputs": [],
   "source": [
    "# Δημιουργία γραφημάτων\n",
    "# for file in file_list:\n",
    "# df = pd.read_csv(os.path.join('harth/', file_list[1]))\n",
    "# df[['back_x','back_y', 'back_z', 'label']].plot(title= file, subplots=True)\n",
    "# plt.show()\n",
    "# df[['thigh_x','thigh_y', 'thigh_z', 'label']].plot(title= file, subplots=True)\n",
    "# plt.show()"
   ],
   "metadata": {
    "collapsed": false,
    "ExecuteTime": {
     "end_time": "2024-05-20T20:50:05.568080900Z",
     "start_time": "2024-05-20T20:50:05.550554900Z"
    }
   },
   "id": "9fba2d530a727941",
   "execution_count": 7
  },
  {
   "cell_type": "code",
   "outputs": [],
   "source": [
    "# df = pd.read_csv(os.path.join('harth/', file_list[2]))\n",
    "# \n",
    "# df_long = df[['thigh_x', 'thigh_y', 'thigh_z']].melt(var_name='sensor', value_name='value')\n",
    "# sns.displot(df_long, x='value', hue='sensor', kde=False, bins=100)\n",
    "# plt.show()"
   ],
   "metadata": {
    "collapsed": false,
    "ExecuteTime": {
     "end_time": "2024-05-20T20:50:05.579956800Z",
     "start_time": "2024-05-20T20:50:05.563577400Z"
    }
   },
   "id": "26ec24036580c4de",
   "execution_count": 8
  },
  {
   "cell_type": "code",
   "outputs": [],
   "source": [
    "# Heatmaps\n",
    "# for file in file_list:\n",
    "# df = pd.read_csv(os.path.join('harth/', file))\n",
    "# my_columns = ['back_x', 'back_y', 'back_z', 'thigh_x', 'thigh_y', 'thigh_z']\n",
    "# df_selected = df[my_columns]\n",
    "# \n",
    "# corr_df = df_selected.corr()\n",
    "# sns.heatmap(corr_df, annot=True, cmap='coolwarm')\n",
    "# plt.title(file)\n",
    "\n",
    "# # Αποθήκευση σε αρχείο:\n",
    "# folder_path = 'Report/src/img/heatmaps'\n",
    "# fig_name = file.replace(\".csv\",\"\") + '_heatmap.png'\n",
    "# plt.savefig(os.path.join(folder_path, fig_name))\n",
    "\n",
    "# plt.show()\n"
   ],
   "metadata": {
    "collapsed": false
   },
   "id": "5261d345ba91e252",
   "execution_count": null
  }
 ],
 "metadata": {
  "kernelspec": {
   "display_name": "Python 3",
   "language": "python",
   "name": "python3"
  },
  "language_info": {
   "codemirror_mode": {
    "name": "ipython",
    "version": 2
   },
   "file_extension": ".py",
   "mimetype": "text/x-python",
   "name": "python",
   "nbconvert_exporter": "python",
   "pygments_lexer": "ipython2",
   "version": "2.7.6"
  }
 },
 "nbformat": 4,
 "nbformat_minor": 5
}
