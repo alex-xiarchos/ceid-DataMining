{
 "cells": [
  {
   "cell_type": "code",
   "execution_count": 29,
   "id": "c7f868307e48cfc3",
   "metadata": {
    "collapsed": false,
    "ExecuteTime": {
     "end_time": "2024-05-09T17:17:06.540375400Z",
     "start_time": "2024-05-09T17:17:06.536737500Z"
    }
   },
   "outputs": [],
   "source": [
    "from icecream import ic\n",
    "import csv\n",
    "import pandas as pd\n",
    "import os\n",
    "import matplotlib.pyplot as ptl"
   ]
  },
  {
   "cell_type": "code",
   "outputs": [],
   "source": [
    "file_list = ['S006.csv','S008.csv','S009.csv','S010.csv','S012.csv','S013.csv','S014.csv','S015.csv','S016.csv',\n",
    "             'S017.csv','S018.csv','S019.csv','S020.csv','S021.csv','S022.csv','S023.csv','S024.csv','S025.csv',\n",
    "             'S026.csv','S027.csv','S028.csv','S029.csv',]\n",
    "\n",
    "file_path = os.path.join('harth/', file_list[0])"
   ],
   "metadata": {
    "collapsed": false,
    "ExecuteTime": {
     "end_time": "2024-05-09T17:17:06.714056400Z",
     "start_time": "2024-05-09T17:17:06.708545900Z"
    }
   },
   "id": "f218cc61d69c0f7d",
   "execution_count": 30
  },
  {
   "cell_type": "code",
   "outputs": [],
   "source": [
    "# Append all df's into a single combined dataframe\n",
    "df_combined = pd.DataFrame()\n",
    "\n",
    "for file in file_list:\n",
    "    df = pd.read_csv(os.path.join('harth/', file))\n",
    "    df_combined = pd.concat([df_combined, df])"
   ],
   "metadata": {
    "collapsed": false
   },
   "id": "d5af7f44143f9373",
   "execution_count": null
  },
  {
   "cell_type": "code",
   "outputs": [
    {
     "data": {
      "text/plain": "timestamp           0\nback_x              0\nback_y              0\nback_z              0\nthigh_x             0\nthigh_y             0\nthigh_z             0\nlabel               0\nindex         5740689\nUnnamed: 0    6323682\ndtype: int64"
     },
     "execution_count": 45,
     "metadata": {},
     "output_type": "execute_result"
    }
   ],
   "source": [
    "df_combined.isnull().sum()"
   ],
   "metadata": {
    "collapsed": false,
    "ExecuteTime": {
     "end_time": "2024-05-09T17:29:10.448309600Z",
     "start_time": "2024-05-09T17:29:10.382163400Z"
    }
   },
   "id": "2fa1eed5b75b31a",
   "execution_count": 45
  },
  {
   "cell_type": "code",
   "outputs": [],
   "source": [
    "df = pd.read_csv(os.path.join('harth/', file_list[0]))\n",
    "df.info()"
   ],
   "metadata": {
    "collapsed": false
   },
   "id": "initial_id",
   "execution_count": null
  },
  {
   "cell_type": "code",
   "outputs": [
    {
     "data": {
      "text/plain": "                 timestamp    back_x    back_y    back_z   thigh_x   thigh_y  \\\n0  2019-01-12 00:00:00.000 -0.760242  0.299570  0.468570 -5.092732 -0.298644   \n1  2019-01-12 00:00:00.010 -0.530138  0.281880  0.319987  0.900547  0.286944   \n2  2019-01-12 00:00:00.020 -1.170922  0.186353 -0.167010 -0.035442 -0.078423   \n3  2019-01-12 00:00:00.030 -0.648772  0.016579 -0.054284 -1.554248 -0.950978   \n4  2019-01-12 00:00:00.040 -0.355071 -0.051831 -0.113419 -0.547471  0.140903   \n\n    thigh_z  label  \n0  0.709439      6  \n1  0.340309      6  \n2 -0.515212      6  \n3 -0.221140      6  \n4 -0.653782      6  ",
      "text/html": "<div>\n<style scoped>\n    .dataframe tbody tr th:only-of-type {\n        vertical-align: middle;\n    }\n\n    .dataframe tbody tr th {\n        vertical-align: top;\n    }\n\n    .dataframe thead th {\n        text-align: right;\n    }\n</style>\n<table border=\"1\" class=\"dataframe\">\n  <thead>\n    <tr style=\"text-align: right;\">\n      <th></th>\n      <th>timestamp</th>\n      <th>back_x</th>\n      <th>back_y</th>\n      <th>back_z</th>\n      <th>thigh_x</th>\n      <th>thigh_y</th>\n      <th>thigh_z</th>\n      <th>label</th>\n    </tr>\n  </thead>\n  <tbody>\n    <tr>\n      <th>0</th>\n      <td>2019-01-12 00:00:00.000</td>\n      <td>-0.760242</td>\n      <td>0.299570</td>\n      <td>0.468570</td>\n      <td>-5.092732</td>\n      <td>-0.298644</td>\n      <td>0.709439</td>\n      <td>6</td>\n    </tr>\n    <tr>\n      <th>1</th>\n      <td>2019-01-12 00:00:00.010</td>\n      <td>-0.530138</td>\n      <td>0.281880</td>\n      <td>0.319987</td>\n      <td>0.900547</td>\n      <td>0.286944</td>\n      <td>0.340309</td>\n      <td>6</td>\n    </tr>\n    <tr>\n      <th>2</th>\n      <td>2019-01-12 00:00:00.020</td>\n      <td>-1.170922</td>\n      <td>0.186353</td>\n      <td>-0.167010</td>\n      <td>-0.035442</td>\n      <td>-0.078423</td>\n      <td>-0.515212</td>\n      <td>6</td>\n    </tr>\n    <tr>\n      <th>3</th>\n      <td>2019-01-12 00:00:00.030</td>\n      <td>-0.648772</td>\n      <td>0.016579</td>\n      <td>-0.054284</td>\n      <td>-1.554248</td>\n      <td>-0.950978</td>\n      <td>-0.221140</td>\n      <td>6</td>\n    </tr>\n    <tr>\n      <th>4</th>\n      <td>2019-01-12 00:00:00.040</td>\n      <td>-0.355071</td>\n      <td>-0.051831</td>\n      <td>-0.113419</td>\n      <td>-0.547471</td>\n      <td>0.140903</td>\n      <td>-0.653782</td>\n      <td>6</td>\n    </tr>\n  </tbody>\n</table>\n</div>"
     },
     "execution_count": 11,
     "metadata": {},
     "output_type": "execute_result"
    }
   ],
   "source": [
    "df = pd.read_csv(os.path.join('harth/', file_list[0]))\n",
    "df.head()"
   ],
   "metadata": {
    "collapsed": false,
    "ExecuteTime": {
     "end_time": "2024-05-09T14:45:38.675127300Z",
     "start_time": "2024-05-09T14:45:38.401017600Z"
    }
   },
   "id": "9d26074dccb7bc7a",
   "execution_count": 11
  },
  {
   "cell_type": "code",
   "outputs": [],
   "source": [
    "df = pd.read_csv(os.path.join('harth/', file_list[0]))\n",
    "df.isna().sum()"
   ],
   "metadata": {
    "collapsed": false
   },
   "id": "70b86971354b7ee6",
   "execution_count": null
  },
  {
   "cell_type": "code",
   "outputs": [
    {
     "data": {
      "text/plain": "              back_x         back_y         back_z        thigh_x  \\\ncount  351649.000000  351649.000000  351649.000000  351649.000000   \nmean       -1.019898      -0.002224      -0.014543      -0.905389   \nstd         0.186093       0.089664       0.155128       0.409359   \nmin        -2.365137      -0.891766      -1.120693      -4.449651   \n25%        -1.049960      -0.054221      -0.085287      -1.035450   \n50%        -1.015238      -0.000030      -0.000642      -0.989746   \n75%        -0.974607       0.047685       0.071708      -0.843884   \nmax        -0.309204       0.994556       1.586732       1.372425   \n\n             thigh_y        thigh_z          label  \ncount  351649.000000  351649.000000  351649.000000  \nmean        0.017624       0.146144       3.333546  \nstd         0.262037       0.542611       2.523253  \nmin        -3.333658      -4.198951       1.000000  \n25%        -0.097479      -0.114183       1.000000  \n50%         0.020164       0.022649       1.000000  \n75%         0.115373       0.313726       6.000000  \nmax         2.662940       5.062087       7.000000  ",
      "text/html": "<div>\n<style scoped>\n    .dataframe tbody tr th:only-of-type {\n        vertical-align: middle;\n    }\n\n    .dataframe tbody tr th {\n        vertical-align: top;\n    }\n\n    .dataframe thead th {\n        text-align: right;\n    }\n</style>\n<table border=\"1\" class=\"dataframe\">\n  <thead>\n    <tr style=\"text-align: right;\">\n      <th></th>\n      <th>back_x</th>\n      <th>back_y</th>\n      <th>back_z</th>\n      <th>thigh_x</th>\n      <th>thigh_y</th>\n      <th>thigh_z</th>\n      <th>label</th>\n    </tr>\n  </thead>\n  <tbody>\n    <tr>\n      <th>count</th>\n      <td>351649.000000</td>\n      <td>351649.000000</td>\n      <td>351649.000000</td>\n      <td>351649.000000</td>\n      <td>351649.000000</td>\n      <td>351649.000000</td>\n      <td>351649.000000</td>\n    </tr>\n    <tr>\n      <th>mean</th>\n      <td>-1.019898</td>\n      <td>-0.002224</td>\n      <td>-0.014543</td>\n      <td>-0.905389</td>\n      <td>0.017624</td>\n      <td>0.146144</td>\n      <td>3.333546</td>\n    </tr>\n    <tr>\n      <th>std</th>\n      <td>0.186093</td>\n      <td>0.089664</td>\n      <td>0.155128</td>\n      <td>0.409359</td>\n      <td>0.262037</td>\n      <td>0.542611</td>\n      <td>2.523253</td>\n    </tr>\n    <tr>\n      <th>min</th>\n      <td>-2.365137</td>\n      <td>-0.891766</td>\n      <td>-1.120693</td>\n      <td>-4.449651</td>\n      <td>-3.333658</td>\n      <td>-4.198951</td>\n      <td>1.000000</td>\n    </tr>\n    <tr>\n      <th>25%</th>\n      <td>-1.049960</td>\n      <td>-0.054221</td>\n      <td>-0.085287</td>\n      <td>-1.035450</td>\n      <td>-0.097479</td>\n      <td>-0.114183</td>\n      <td>1.000000</td>\n    </tr>\n    <tr>\n      <th>50%</th>\n      <td>-1.015238</td>\n      <td>-0.000030</td>\n      <td>-0.000642</td>\n      <td>-0.989746</td>\n      <td>0.020164</td>\n      <td>0.022649</td>\n      <td>1.000000</td>\n    </tr>\n    <tr>\n      <th>75%</th>\n      <td>-0.974607</td>\n      <td>0.047685</td>\n      <td>0.071708</td>\n      <td>-0.843884</td>\n      <td>0.115373</td>\n      <td>0.313726</td>\n      <td>6.000000</td>\n    </tr>\n    <tr>\n      <th>max</th>\n      <td>-0.309204</td>\n      <td>0.994556</td>\n      <td>1.586732</td>\n      <td>1.372425</td>\n      <td>2.662940</td>\n      <td>5.062087</td>\n      <td>7.000000</td>\n    </tr>\n  </tbody>\n</table>\n</div>"
     },
     "execution_count": 21,
     "metadata": {},
     "output_type": "execute_result"
    }
   ],
   "source": [
    "df = pd.read_csv(os.path.join('harth/', file_list[3]))\n",
    "df.describe()"
   ],
   "metadata": {
    "collapsed": false,
    "ExecuteTime": {
     "end_time": "2024-05-09T15:41:38.058934900Z",
     "start_time": "2024-05-09T15:41:37.763752300Z"
    }
   },
   "id": "a8367255415fa3b6",
   "execution_count": 21
  },
  {
   "cell_type": "code",
   "outputs": [
    {
     "data": {
      "text/plain": "<Figure size 640x480 with 1 Axes>",
      "image/png": "[encoded data removed]"
     },
     "metadata": {},
     "output_type": "display_data"
    }
   ],
   "source": [
    "df = pd.read_csv(os.path.join('harth/', file_list[4]))\n",
    "df.boxplot()\n",
    "ptl.show()"
   ],
   "metadata": {
    "collapsed": false,
    "ExecuteTime": {
     "end_time": "2024-05-09T15:38:17.133842900Z",
     "start_time": "2024-05-09T15:38:15.820692200Z"
    }
   },
   "id": "9fba2d530a727941",
   "execution_count": 18
  }
 ],
 "metadata": {
  "kernelspec": {
   "display_name": "Python 3",
   "language": "python",
   "name": "python3"
  },
  "language_info": {
   "codemirror_mode": {
    "name": "ipython",
    "version": 2
   },
   "file_extension": ".py",
   "mimetype": "text/x-python",
   "name": "python",
   "nbconvert_exporter": "python",
   "pygments_lexer": "ipython2",
   "version": "2.7.6"
  }
 },
 "nbformat": 4,
 "nbformat_minor": 5
}
